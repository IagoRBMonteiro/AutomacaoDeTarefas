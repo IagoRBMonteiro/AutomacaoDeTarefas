{
 "cells": [
  {
   "cell_type": "markdown",
   "id": "78ed1bcc",
   "metadata": {},
   "source": [
    "# Automação de Tarefas com Python\n",
    "#### Projeto desenvolvido durante curso da Hashtag Treinamentos, onde o objetivo seria importar um data frame que contém produtos diversos, e cadastra-los no site da empresa. \n",
    "\n",
    "O site é apenas um exemplo, e nenhum dado esta sendo gravado de fato.\n",
    "\n",
    "### Bibliotecas Usadas:\n",
    "#### Pandas, Pyautogui, time\n",
    "\n",
    "### Passos seguidos:\n",
    "\n",
    "- Passo 1 - Abrir o link de onde quer entrar (https://dlp.hashtagtreinamentos.com/python/intensivao/login)\n",
    "\n",
    "- Passo 2 - Fazer login\n",
    "\n",
    "- Passo 3 - Importar a base de dados\n",
    "\n",
    "- Passo 4 - Cadastrar 1 produto\n",
    "\n",
    "- Passo 5 - Repetir o processo até terminar os produtos"
   ]
  },
  {
   "cell_type": "code",
   "execution_count": 99,
   "id": "b99250d6",
   "metadata": {},
   "outputs": [
    {
     "name": "stdout",
     "output_type": "stream",
     "text": [
      "Requirement already satisfied: pyautogui in c:\\users\\washington\\anaconda3\\lib\\site-packages (0.9.54)\n",
      "Requirement already satisfied: pymsgbox in c:\\users\\washington\\anaconda3\\lib\\site-packages (from pyautogui) (1.0.9)\n",
      "Requirement already satisfied: pytweening>=1.0.4 in c:\\users\\washington\\anaconda3\\lib\\site-packages (from pyautogui) (1.2.0)\n",
      "Requirement already satisfied: pyscreeze>=0.1.21 in c:\\users\\washington\\anaconda3\\lib\\site-packages (from pyautogui) (1.0.1)\n",
      "Requirement already satisfied: pygetwindow>=0.0.5 in c:\\users\\washington\\anaconda3\\lib\\site-packages (from pyautogui) (0.0.9)\n",
      "Requirement already satisfied: mouseinfo in c:\\users\\washington\\anaconda3\\lib\\site-packages (from pyautogui) (0.1.3)\n",
      "Requirement already satisfied: pyrect in c:\\users\\washington\\anaconda3\\lib\\site-packages (from pygetwindow>=0.0.5->pyautogui) (0.2.0)\n",
      "Requirement already satisfied: Pillow>=9.2.0 in c:\\users\\washington\\anaconda3\\lib\\site-packages (from pyscreeze>=0.1.21->pyautogui) (9.2.0)\n",
      "Requirement already satisfied: pyperclip in c:\\users\\washington\\anaconda3\\lib\\site-packages (from mouseinfo->pyautogui) (1.9.0)\n"
     ]
    }
   ],
   "source": [
    "# Instalar e importar bibliotecas\n",
    "\n",
    "!pip install pyautogui\n",
    "import pyautogui\n",
    "import time"
   ]
  },
  {
   "cell_type": "code",
   "execution_count": 100,
   "id": "414ca506",
   "metadata": {},
   "outputs": [],
   "source": [
    "# Passo 1: Abrir link do site da empresa\n",
    "\n",
    "pyautogui.press('win')\n",
    "pyautogui.write('Chrome')\n",
    "pyautogui.press('enter')\n"
   ]
  },
  {
   "cell_type": "code",
   "execution_count": 101,
   "id": "6c0c79f6",
   "metadata": {},
   "outputs": [],
   "source": [
    "# Este click esta programado para entrar na segunda conta que aparece ao abrir o Chrome\n",
    "\n",
    "time.sleep(2)\n",
    "\n",
    "pyautogui.press('f11')\n",
    "pyautogui.click(x=528, y=467)"
   ]
  },
  {
   "cell_type": "code",
   "execution_count": 102,
   "id": "4907c26f",
   "metadata": {},
   "outputs": [],
   "source": [
    "pyautogui.PAUSE = 0.5\n",
    "pyautogui.write('https://dlp.hashtagtreinamentos.com/python/intensivao/login')\n",
    "pyautogui.press('enter')\n",
    "\n",
    "time.sleep(3)"
   ]
  },
  {
   "cell_type": "code",
   "execution_count": 103,
   "id": "10d47f98",
   "metadata": {},
   "outputs": [],
   "source": [
    "# Passo 2: Fazer login no site\n",
    "\n",
    "pyautogui.press('tab')\n",
    "pyautogui.write('seuemail@gmail.com')\n",
    "pyautogui.press('tab')\n",
    "pyautogui.write('76543Teste')\n",
    "pyautogui.press('enter')"
   ]
  },
  {
   "cell_type": "code",
   "execution_count": 104,
   "id": "25534941",
   "metadata": {},
   "outputs": [],
   "source": [
    "# Passo 3\n",
    "\n",
    "import pandas as pd\n",
    "\n",
    "caminho = r'C:\\Users\\Washington\\Documents\\Iago M\\Projetos - Hashtag\\produtos.csv'"
   ]
  },
  {
   "cell_type": "code",
   "execution_count": 105,
   "id": "b111b43e",
   "metadata": {},
   "outputs": [
    {
     "ename": "KeyboardInterrupt",
     "evalue": "",
     "output_type": "error",
     "traceback": [
      "\u001b[1;31m---------------------------------------------------------------------------\u001b[0m",
      "\u001b[1;31mKeyboardInterrupt\u001b[0m                         Traceback (most recent call last)",
      "\u001b[1;32m~\\AppData\\Local\\Temp\\ipykernel_18428\\2784579831.py\u001b[0m in \u001b[0;36m<module>\u001b[1;34m\u001b[0m\n\u001b[0;32m     43\u001b[0m \u001b[1;33m\u001b[0m\u001b[0m\n\u001b[0;32m     44\u001b[0m     \u001b[0mpyautogui\u001b[0m\u001b[1;33m.\u001b[0m\u001b[0mpress\u001b[0m\u001b[1;33m(\u001b[0m\u001b[1;34m'enter'\u001b[0m\u001b[1;33m)\u001b[0m\u001b[1;33m\u001b[0m\u001b[1;33m\u001b[0m\u001b[0m\n\u001b[1;32m---> 45\u001b[1;33m     \u001b[0mpyautogui\u001b[0m\u001b[1;33m.\u001b[0m\u001b[0mpress\u001b[0m\u001b[1;33m(\u001b[0m\u001b[1;34m'enter'\u001b[0m\u001b[1;33m)\u001b[0m\u001b[1;33m\u001b[0m\u001b[1;33m\u001b[0m\u001b[0m\n\u001b[0m\u001b[0;32m     46\u001b[0m \u001b[1;33m\u001b[0m\u001b[0m\n\u001b[0;32m     47\u001b[0m     \u001b[0mtime\u001b[0m\u001b[1;33m.\u001b[0m\u001b[0msleep\u001b[0m\u001b[1;33m(\u001b[0m\u001b[1;36m3\u001b[0m\u001b[1;33m)\u001b[0m\u001b[1;33m\u001b[0m\u001b[1;33m\u001b[0m\u001b[0m\n",
      "\u001b[1;32m~\\anaconda3\\lib\\site-packages\\pyautogui\\__init__.py\u001b[0m in \u001b[0;36mwrapper\u001b[1;34m(*args, **kwargs)\u001b[0m\n\u001b[0;32m    593\u001b[0m         \u001b[0mfailSafeCheck\u001b[0m\u001b[1;33m(\u001b[0m\u001b[1;33m)\u001b[0m\u001b[1;33m\u001b[0m\u001b[1;33m\u001b[0m\u001b[0m\n\u001b[0;32m    594\u001b[0m         \u001b[0mreturnVal\u001b[0m \u001b[1;33m=\u001b[0m \u001b[0mwrappedFunction\u001b[0m\u001b[1;33m(\u001b[0m\u001b[1;33m*\u001b[0m\u001b[0margs\u001b[0m\u001b[1;33m,\u001b[0m \u001b[1;33m**\u001b[0m\u001b[0mkwargs\u001b[0m\u001b[1;33m)\u001b[0m\u001b[1;33m\u001b[0m\u001b[1;33m\u001b[0m\u001b[0m\n\u001b[1;32m--> 595\u001b[1;33m         \u001b[0m_handlePause\u001b[0m\u001b[1;33m(\u001b[0m\u001b[0mkwargs\u001b[0m\u001b[1;33m.\u001b[0m\u001b[0mget\u001b[0m\u001b[1;33m(\u001b[0m\u001b[1;34m\"_pause\"\u001b[0m\u001b[1;33m,\u001b[0m \u001b[1;32mTrue\u001b[0m\u001b[1;33m)\u001b[0m\u001b[1;33m)\u001b[0m\u001b[1;33m\u001b[0m\u001b[1;33m\u001b[0m\u001b[0m\n\u001b[0m\u001b[0;32m    596\u001b[0m         \u001b[1;32mreturn\u001b[0m \u001b[0mreturnVal\u001b[0m\u001b[1;33m\u001b[0m\u001b[1;33m\u001b[0m\u001b[0m\n\u001b[0;32m    597\u001b[0m \u001b[1;33m\u001b[0m\u001b[0m\n",
      "\u001b[1;32m~\\anaconda3\\lib\\site-packages\\pyautogui\\__init__.py\u001b[0m in \u001b[0;36m_handlePause\u001b[1;34m(_pause)\u001b[0m\n\u001b[0;32m    637\u001b[0m     \u001b[1;32mif\u001b[0m \u001b[0m_pause\u001b[0m\u001b[1;33m:\u001b[0m\u001b[1;33m\u001b[0m\u001b[1;33m\u001b[0m\u001b[0m\n\u001b[0;32m    638\u001b[0m         \u001b[1;32massert\u001b[0m \u001b[0misinstance\u001b[0m\u001b[1;33m(\u001b[0m\u001b[0mPAUSE\u001b[0m\u001b[1;33m,\u001b[0m \u001b[0mint\u001b[0m\u001b[1;33m)\u001b[0m \u001b[1;32mor\u001b[0m \u001b[0misinstance\u001b[0m\u001b[1;33m(\u001b[0m\u001b[0mPAUSE\u001b[0m\u001b[1;33m,\u001b[0m \u001b[0mfloat\u001b[0m\u001b[1;33m)\u001b[0m\u001b[1;33m\u001b[0m\u001b[1;33m\u001b[0m\u001b[0m\n\u001b[1;32m--> 639\u001b[1;33m         \u001b[0mtime\u001b[0m\u001b[1;33m.\u001b[0m\u001b[0msleep\u001b[0m\u001b[1;33m(\u001b[0m\u001b[0mPAUSE\u001b[0m\u001b[1;33m)\u001b[0m\u001b[1;33m\u001b[0m\u001b[1;33m\u001b[0m\u001b[0m\n\u001b[0m\u001b[0;32m    640\u001b[0m \u001b[1;33m\u001b[0m\u001b[0m\n\u001b[0;32m    641\u001b[0m \u001b[1;33m\u001b[0m\u001b[0m\n",
      "\u001b[1;31mKeyboardInterrupt\u001b[0m: "
     ]
    }
   ],
   "source": [
    "##### df = pd.read_csv(caminho)\n",
    "df.head()\n",
    "\n",
    "# Passo 4 - Cadastrar produtos\n",
    "# Usar as colunas para localizar o dado que quero -> [linha, coluna]\n",
    "\n",
    "linha = 0\n",
    "\n",
    "# Passo 5: Junto ao passo 4 criamos a repetição para já realizar com todos os produtos\n",
    "for linha in df.index:\n",
    "\n",
    "    pyautogui.click(x=812, y=299)\n",
    "    \n",
    "    codigo = df.loc[linha, 'codigo']\n",
    "    pyautogui.write(str(codigo))\n",
    "    pyautogui.press('tab')\n",
    "\n",
    "\n",
    "    marca = df.loc[linha, 'marca']\n",
    "    pyautogui.write(str(marca))\n",
    "    pyautogui.press('tab')\n",
    "\n",
    "    tipo = df.loc[linha, 'tipo']\n",
    "    pyautogui.write(str(tipo))\n",
    "    pyautogui.press('tab')\n",
    "\n",
    "    categoria = df.loc[linha,'categoria']\n",
    "    pyautogui.write(str(categoria))\n",
    "    pyautogui.press('tab')\n",
    "\n",
    "    preco_unitario = df.loc[linha, 'preco_unitario']\n",
    "    pyautogui.write(str(preco_unitario))\n",
    "    \n",
    "    pyautogui.press('tab')\n",
    "\n",
    "    custo = df.loc[linha, 'custo']\n",
    "    pyautogui.write(str(custo))\n",
    "    pyautogui.press('tab')\n",
    "\n",
    "    obs = df.loc[linha, 'obs']\n",
    "    if not pd.isna(obs):\n",
    "        pyautogui.write(str(obs))\n",
    "    pyautogui.press('tab')\n",
    "\n",
    "    pyautogui.press('enter')\n",
    "    pyautogui.press('enter')\n",
    "    \n",
    "    time.sleep(3)\n",
    "    \n",
    "    pyautogui.scroll(5000)\n"
   ]
  }
 ],
 "metadata": {
  "kernelspec": {
   "display_name": "Python 3 (ipykernel)",
   "language": "python",
   "name": "python3"
  },
  "language_info": {
   "codemirror_mode": {
    "name": "ipython",
    "version": 3
   },
   "file_extension": ".py",
   "mimetype": "text/x-python",
   "name": "python",
   "nbconvert_exporter": "python",
   "pygments_lexer": "ipython3",
   "version": "3.9.13"
  }
 },
 "nbformat": 4,
 "nbformat_minor": 5
}
